{
 "cells": [
  {
   "cell_type": "markdown",
   "id": "f6706ab7",
   "metadata": {},
   "source": [
    "## 1. Importing all necessary libraries"
   ]
  },
  {
   "cell_type": "code",
   "execution_count": null,
   "id": "57401c9f",
   "metadata": {},
   "outputs": [],
   "source": [
    "import pandas as pd\n",
    "import numpy as np\n",
    "import matplotlib.pyplot as plt\n",
    "import sklearn"
   ]
  },
  {
   "cell_type": "markdown",
   "id": "42e83054",
   "metadata": {},
   "source": [
    "## 2. Loading dataset"
   ]
  },
  {
   "cell_type": "code",
   "execution_count": null,
   "id": "c5ff77a0",
   "metadata": {},
   "outputs": [],
   "source": [
    "def load_dataset():\n",
    "    url = \"https://storage.googleapis.com/qwasar-public/track-ds/boston.csv\"\n",
    "    dataset = pd.read_csv(url)\n",
    "    return dataset"
   ]
  },
  {
   "cell_type": "code",
   "execution_count": null,
   "id": "64f85939",
   "metadata": {},
   "outputs": [],
   "source": [
    "boston_dataframe = load_dataset()"
   ]
  },
  {
   "cell_type": "code",
   "execution_count": null,
   "id": "d3e13c13",
   "metadata": {},
   "outputs": [],
   "source": [
    "print(boston_dataframe)"
   ]
  },
  {
   "cell_type": "markdown",
   "id": "9b00b293",
   "metadata": {},
   "source": [
    "## 3. Printing summary of the dataset"
   ]
  },
  {
   "cell_type": "code",
   "execution_count": null,
   "id": "69bd8069",
   "metadata": {},
   "outputs": [],
   "source": [
    "def print_summarize_dataset(dataset):\n",
    "    print(\"Dataset dimension:\")\n",
    "    print(dataset.shape)\n",
    "    print(\"First 10 rows of dataset:\")\n",
    "    print(dataset.head(10))\n",
    "    print(\"Statistical summary:\")\n",
    "    print(dataset.describe())"
   ]
  },
  {
   "cell_type": "code",
   "execution_count": null,
   "id": "fd7fbb03",
   "metadata": {},
   "outputs": [],
   "source": [
    "print_summarize_dataset(boston_dataframe)"
   ]
  },
  {
   "cell_type": "markdown",
   "id": "b2ab2363",
   "metadata": {},
   "source": [
    "## 4. Cleaning and Pre-processing"
   ]
  },
  {
   "cell_type": "code",
   "execution_count": null,
   "id": "fba41510",
   "metadata": {},
   "outputs": [],
   "source": [
    "def clean_dataset(boston_dataframe):\n",
    "    boston_dataframe.dropna(inplace=True)"
   ]
  },
  {
   "cell_type": "code",
   "execution_count": null,
   "id": "1ef3df43",
   "metadata": {},
   "outputs": [],
   "source": [
    "clean_dataset(boston_dataframe)"
   ]
  },
  {
   "cell_type": "markdown",
   "id": "e542bd69",
   "metadata": {},
   "source": [
    "## 5. Data Analysis"
   ]
  },
  {
   "cell_type": "code",
   "execution_count": null,
   "id": "11a23141",
   "metadata": {},
   "outputs": [],
   "source": [
    "# Plotting each attribute in a histogram\n",
    "def print_histograms(boston_dataframe):\n",
    "    boston_dataframe.hist(layout=(4,4), bins=50, figsize=(14,10))\n",
    "    plt.show()"
   ]
  },
  {
   "cell_type": "code",
   "execution_count": null,
   "id": "923b8b49",
   "metadata": {},
   "outputs": [],
   "source": [
    "print_histograms(boston_dataframe)"
   ]
  },
  {
   "cell_type": "code",
   "execution_count": null,
   "id": "52a62397",
   "metadata": {},
   "outputs": [],
   "source": [
    "# Function that computes correlations matrix of dataset\n",
    "def compute_correlations_matrix(boston_dataframe):\n",
    "    corr_matrix = boston_dataframe.corr()\n",
    "    #corr_dict = {}\n",
    "    #for i in corr_matrix.columns:\n",
    "    #    corr_dict[f'{i}'] = corr_matrix.loc[f'{i}']\n",
    "    return corr_matrix"
   ]
  },
  {
   "cell_type": "code",
   "execution_count": null,
   "id": "6f21d8d2",
   "metadata": {},
   "outputs": [],
   "source": [
    "correlations = compute_correlations_matrix(boston_dataframe)\n",
    "print(correlations['MDEV'])"
   ]
  },
  {
   "cell_type": "code",
   "execution_count": null,
   "id": "4b741689",
   "metadata": {},
   "outputs": [],
   "source": [
    "# Plotting scatter matrix\n",
    "def print_scatter_matrix(boston_dataframe):\n",
    "    pd.plotting.scatter_matrix(boston_dataframe, figsize=(14,10))"
   ]
  },
  {
   "cell_type": "code",
   "execution_count": null,
   "id": "2ab2d1fe",
   "metadata": {},
   "outputs": [],
   "source": [
    "print_scatter_matrix(boston_dataframe)"
   ]
  },
  {
   "cell_type": "code",
   "execution_count": null,
   "id": "0b8724c3",
   "metadata": {},
   "outputs": [],
   "source": [
    "# Plotting MDEV in function of RM\n",
    "boston_dataframe.loc[:,['RM','MDEV']].plot.scatter(x='RM', y='MDEV')"
   ]
  },
  {
   "cell_type": "code",
   "execution_count": null,
   "id": "e6007589",
   "metadata": {},
   "outputs": [],
   "source": [
    "# Plotting MDEV as a function of LSTAT, AGE, and CRIME\n",
    "features = ['LSTAT', 'AGE', 'CRIM']\n",
    "fig, axes = plt.subplots(1,3)\n",
    "for i in range(3):\n",
    "    boston_dataframe.loc[:,[f'{features[i]}','MDEV']].plot.scatter(x=f'{features[i]}', y='MDEV', s=5, figsize=(14,3), ax=axes[i])"
   ]
  },
  {
   "cell_type": "code",
   "execution_count": null,
   "id": "01854539",
   "metadata": {},
   "outputs": [],
   "source": [
    "# Printing the correlation coefficients for LSTAT\n",
    "print(correlations['LSTAT'])"
   ]
  },
  {
   "cell_type": "markdown",
   "id": "a50431d8",
   "metadata": {},
   "source": [
    "## 6. Prediction"
   ]
  },
  {
   "cell_type": "code",
   "execution_count": null,
   "id": "2c43dd72",
   "metadata": {},
   "outputs": [],
   "source": []
  }
 ],
 "metadata": {
  "kernelspec": {
   "display_name": "Python 3",
   "language": "python",
   "name": "python3"
  },
  "language_info": {
   "codemirror_mode": {
    "name": "ipython",
    "version": 3
   },
   "file_extension": ".py",
   "mimetype": "text/x-python",
   "name": "python",
   "nbconvert_exporter": "python",
   "pygments_lexer": "ipython3",
   "version": "3.6.7"
  }
 },
 "nbformat": 4,
 "nbformat_minor": 5
}
