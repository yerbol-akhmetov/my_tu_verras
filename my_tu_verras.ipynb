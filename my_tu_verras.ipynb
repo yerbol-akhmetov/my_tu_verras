{
 "cells": [
  {
   "cell_type": "markdown",
   "id": "f6706ab7",
   "metadata": {},
   "source": [
    "## 1. Importing all necessary libraries"
   ]
  },
  {
   "cell_type": "code",
   "execution_count": 6,
   "id": "57401c9f",
   "metadata": {},
   "outputs": [
    {
     "ename": "ModuleNotFoundError",
     "evalue": "No module named 'sklearn'",
     "output_type": "error",
     "traceback": [
      "\u001b[0;31m---------------------------------------------------------------------------\u001b[0m",
      "\u001b[0;31mModuleNotFoundError\u001b[0m                       Traceback (most recent call last)",
      "\u001b[0;32m<ipython-input-6-5194880aa196>\u001b[0m in \u001b[0;36m<module>\u001b[0;34m\u001b[0m\n\u001b[1;32m      2\u001b[0m \u001b[0;32mimport\u001b[0m \u001b[0mnumpy\u001b[0m \u001b[0;32mas\u001b[0m \u001b[0mnp\u001b[0m\u001b[0;34m\u001b[0m\u001b[0;34m\u001b[0m\u001b[0m\n\u001b[1;32m      3\u001b[0m \u001b[0;32mimport\u001b[0m \u001b[0mmatplotlib\u001b[0m\u001b[0;34m.\u001b[0m\u001b[0mpyplot\u001b[0m \u001b[0;32mas\u001b[0m \u001b[0mplt\u001b[0m\u001b[0;34m\u001b[0m\u001b[0;34m\u001b[0m\u001b[0m\n\u001b[0;32m----> 4\u001b[0;31m \u001b[0;32mimport\u001b[0m \u001b[0msklearn\u001b[0m\u001b[0;34m\u001b[0m\u001b[0;34m\u001b[0m\u001b[0m\n\u001b[0m\u001b[1;32m      5\u001b[0m \u001b[0;32mfrom\u001b[0m \u001b[0msklearn\u001b[0m \u001b[0;32mimport\u001b[0m \u001b[0mmetrics\u001b[0m\u001b[0;34m\u001b[0m\u001b[0;34m\u001b[0m\u001b[0m\n\u001b[1;32m      6\u001b[0m \u001b[0;32mfrom\u001b[0m \u001b[0msklearn\u001b[0m\u001b[0;34m.\u001b[0m\u001b[0mlinear_model\u001b[0m \u001b[0;32mimport\u001b[0m \u001b[0mLinearRegression\u001b[0m\u001b[0;34m\u001b[0m\u001b[0;34m\u001b[0m\u001b[0m\n",
      "\u001b[0;31mModuleNotFoundError\u001b[0m: No module named 'sklearn'"
     ]
    }
   ],
   "source": [
    "import pandas as pd\n",
    "import numpy as np\n",
    "import matplotlib.pyplot as plt\n",
    "import sklearn\n",
    "from sklearn import metrics\n",
    "from sklearn.linear_model import LinearRegression"
   ]
  },
  {
   "cell_type": "markdown",
   "id": "42e83054",
   "metadata": {},
   "source": [
    "## 2. Loading dataset"
   ]
  },
  {
   "cell_type": "code",
   "execution_count": null,
   "id": "c5ff77a0",
   "metadata": {},
   "outputs": [],
   "source": [
    "def load_dataset():\n",
    "    url = \"https://storage.googleapis.com/qwasar-public/track-ds/boston.csv\"\n",
    "    dataset = pd.read_csv(url)\n",
    "    return dataset"
   ]
  },
  {
   "cell_type": "code",
   "execution_count": null,
   "id": "64f85939",
   "metadata": {},
   "outputs": [],
   "source": [
    "boston_dataframe = load_dataset()"
   ]
  },
  {
   "cell_type": "code",
   "execution_count": null,
   "id": "d3e13c13",
   "metadata": {},
   "outputs": [],
   "source": [
    "print(boston_dataframe)"
   ]
  },
  {
   "cell_type": "markdown",
   "id": "9b00b293",
   "metadata": {},
   "source": [
    "## 3. Printing summary of the dataset"
   ]
  },
  {
   "cell_type": "code",
   "execution_count": null,
   "id": "69bd8069",
   "metadata": {},
   "outputs": [],
   "source": [
    "def print_summarize_dataset(dataset):\n",
    "    print(\"Dataset dimension:\")\n",
    "    print(dataset.shape)\n",
    "    print(\"First 10 rows of dataset:\")\n",
    "    print(dataset.head(10))\n",
    "    print(\"Statistical summary:\")\n",
    "    print(dataset.describe())"
   ]
  },
  {
   "cell_type": "code",
   "execution_count": null,
   "id": "fd7fbb03",
   "metadata": {},
   "outputs": [],
   "source": [
    "print_summarize_dataset(boston_dataframe)"
   ]
  },
  {
   "cell_type": "markdown",
   "id": "b2ab2363",
   "metadata": {},
   "source": [
    "## 4. Cleaning and Pre-processing"
   ]
  },
  {
   "cell_type": "code",
   "execution_count": null,
   "id": "fba41510",
   "metadata": {},
   "outputs": [],
   "source": [
    "def clean_dataset(boston_dataframe):\n",
    "    boston_dataframe.dropna(inplace=True)"
   ]
  },
  {
   "cell_type": "code",
   "execution_count": null,
   "id": "1ef3df43",
   "metadata": {},
   "outputs": [],
   "source": [
    "clean_dataset(boston_dataframe)"
   ]
  },
  {
   "cell_type": "markdown",
   "id": "e542bd69",
   "metadata": {},
   "source": [
    "## 5. Data Analysis"
   ]
  },
  {
   "cell_type": "code",
   "execution_count": null,
   "id": "11a23141",
   "metadata": {},
   "outputs": [],
   "source": [
    "# Plotting each attribute in a histogram\n",
    "def print_histograms(boston_dataframe):\n",
    "    boston_dataframe.hist(layout=(4,4), bins=50, figsize=(14,10))\n",
    "    plt.show()"
   ]
  },
  {
   "cell_type": "code",
   "execution_count": null,
   "id": "923b8b49",
   "metadata": {},
   "outputs": [],
   "source": [
    "print_histograms(boston_dataframe)"
   ]
  },
  {
   "cell_type": "code",
   "execution_count": null,
   "id": "52a62397",
   "metadata": {},
   "outputs": [],
   "source": [
    "# Function that computes correlations matrix of dataset\n",
    "def compute_correlations_matrix(boston_dataframe):\n",
    "    corr_matrix = boston_dataframe.corr()\n",
    "    #corr_dict = {}\n",
    "    #for i in corr_matrix.columns:\n",
    "    #    corr_dict[f'{i}'] = corr_matrix.loc[f'{i}']\n",
    "    return corr_matrix"
   ]
  },
  {
   "cell_type": "code",
   "execution_count": null,
   "id": "6f21d8d2",
   "metadata": {},
   "outputs": [],
   "source": [
    "correlations = compute_correlations_matrix(boston_dataframe)\n",
    "print(correlations['MDEV'])"
   ]
  },
  {
   "cell_type": "code",
   "execution_count": null,
   "id": "4b741689",
   "metadata": {},
   "outputs": [],
   "source": [
    "# Plotting scatter matrix\n",
    "def print_scatter_matrix(boston_dataframe):\n",
    "    pd.plotting.scatter_matrix(boston_dataframe, figsize=(14,10))"
   ]
  },
  {
   "cell_type": "code",
   "execution_count": null,
   "id": "2ab2d1fe",
   "metadata": {},
   "outputs": [],
   "source": [
    "print_scatter_matrix(boston_dataframe)"
   ]
  },
  {
   "cell_type": "code",
   "execution_count": null,
   "id": "0b8724c3",
   "metadata": {},
   "outputs": [],
   "source": [
    "# Plotting MDEV in function of RM\n",
    "boston_dataframe.loc[:,['RM','MDEV']].plot.scatter(x='RM', y='MDEV')"
   ]
  },
  {
   "cell_type": "code",
   "execution_count": null,
   "id": "e6007589",
   "metadata": {},
   "outputs": [],
   "source": [
    "# Plotting MDEV as a function of LSTAT, AGE, and CRIME\n",
    "features = ['LSTAT', 'AGE', 'CRIM']\n",
    "fig, axes = plt.subplots(1,3)\n",
    "for i in range(3):\n",
    "    boston_dataframe.loc[:,[f'{features[i]}','MDEV']].plot.scatter(x=f'{features[i]}', y='MDEV', s=5, figsize=(14,3), ax=axes[i])"
   ]
  },
  {
   "cell_type": "code",
   "execution_count": null,
   "id": "01854539",
   "metadata": {},
   "outputs": [],
   "source": [
    "# Printing the correlation coefficients for LSTAT\n",
    "print(correlations['LSTAT'])"
   ]
  },
  {
   "cell_type": "markdown",
   "id": "a50431d8",
   "metadata": {},
   "source": [
    "## 6. Prediction"
   ]
  },
  {
   "cell_type": "code",
   "execution_count": 1,
   "id": "2c43dd72",
   "metadata": {},
   "outputs": [],
   "source": [
    "# Function to Fit the model\n",
    "def boston_fit_model(boston_dataframe):\n",
    "    # SELECT two columns from our\n",
    "    model_dataset = boston_dataframe[[\"RM\",\"MDEV\"]]\n",
    "    regressor = LinearRegression()\n",
    "    # Extract column 1\n",
    "    x = model_dataset.iloc[:, :-1].values\n",
    "    # Extract column 2\n",
    "    y = model_dataset.iloc[:, 1].values\n",
    "    # Train the model\n",
    "    regressor.fit(x, y)\n",
    "    return regressor"
   ]
  },
  {
   "cell_type": "code",
   "execution_count": 2,
   "id": "dbac0793",
   "metadata": {},
   "outputs": [],
   "source": [
    "# Function to perform predictions\n",
    "def boston_predict(estimator, array_to_predict):\n",
    "    y_pred = estimator.predict(array_to_predict)\n",
    "    return y_pred"
   ]
  },
  {
   "cell_type": "code",
   "execution_count": 3,
   "id": "8b1102c6",
   "metadata": {},
   "outputs": [
    {
     "ename": "NameError",
     "evalue": "name 'boston_dataframe' is not defined",
     "output_type": "error",
     "traceback": [
      "\u001b[0;31m---------------------------------------------------------------------------\u001b[0m",
      "\u001b[0;31mNameError\u001b[0m                                 Traceback (most recent call last)",
      "\u001b[0;32m<ipython-input-3-daf3a34c95db>\u001b[0m in \u001b[0;36m<module>\u001b[0;34m\u001b[0m\n\u001b[1;32m      1\u001b[0m \u001b[0mdata\u001b[0m \u001b[0;34m=\u001b[0m \u001b[0;34m[\u001b[0m\u001b[0;36m1\u001b[0m\u001b[0;34m,\u001b[0m \u001b[0;36m2\u001b[0m\u001b[0;34m,\u001b[0m \u001b[0;36m3\u001b[0m\u001b[0;34m]\u001b[0m\u001b[0;34m\u001b[0m\u001b[0;34m\u001b[0m\u001b[0m\n\u001b[0;32m----> 2\u001b[0;31m \u001b[0mestimator\u001b[0m \u001b[0;34m=\u001b[0m \u001b[0mboston_fit_model\u001b[0m\u001b[0;34m(\u001b[0m\u001b[0mboston_dataframe\u001b[0m\u001b[0;34m)\u001b[0m\u001b[0;34m\u001b[0m\u001b[0;34m\u001b[0m\u001b[0m\n\u001b[0m\u001b[1;32m      3\u001b[0m \u001b[0mprint\u001b[0m\u001b[0;34m(\u001b[0m\u001b[0mboston_predict\u001b[0m\u001b[0;34m(\u001b[0m\u001b[0mestimator\u001b[0m\u001b[0;34m,\u001b[0m \u001b[0mnp\u001b[0m\u001b[0;34m.\u001b[0m\u001b[0marray\u001b[0m\u001b[0;34m(\u001b[0m\u001b[0mdata\u001b[0m\u001b[0;34m)\u001b[0m\u001b[0;34m.\u001b[0m\u001b[0mreshape\u001b[0m\u001b[0;34m(\u001b[0m\u001b[0;34m-\u001b[0m\u001b[0;36m1\u001b[0m\u001b[0;34m,\u001b[0m\u001b[0;36m1\u001b[0m\u001b[0;34m)\u001b[0m\u001b[0;34m)\u001b[0m\u001b[0;34m)\u001b[0m\u001b[0;34m\u001b[0m\u001b[0;34m\u001b[0m\u001b[0m\n",
      "\u001b[0;31mNameError\u001b[0m: name 'boston_dataframe' is not defined"
     ]
    }
   ],
   "source": [
    "data = [1, 2, 3]\n",
    "estimator = boston_fit_model(boston_dataframe)\n",
    "print(boston_predict(estimator, np.array(data).reshape(-1,1)))"
   ]
  },
  {
   "cell_type": "code",
   "execution_count": 4,
   "id": "2dc16838",
   "metadata": {},
   "outputs": [],
   "source": [
    "def print_model_prediction_evaluator(base_test, prediction):\n",
    "    print('Mean Absolute Error:', metrics.mean_absolute_error(base_test, prediction))\n",
    "    print('Mean Squared Error:', metrics.mean_squared_error(base_test, prediction))\n",
    "    print('Root Mean Squared Error:', np.sqrt(metrics.mean_squared_error(base_test, prediction)))"
   ]
  },
  {
   "cell_type": "code",
   "execution_count": 5,
   "id": "c0a53cd0",
   "metadata": {},
   "outputs": [
    {
     "ename": "NameError",
     "evalue": "name 'boston_dataframe' is not defined",
     "output_type": "error",
     "traceback": [
      "\u001b[0;31m---------------------------------------------------------------------------\u001b[0m",
      "\u001b[0;31mNameError\u001b[0m                                 Traceback (most recent call last)",
      "\u001b[0;32m<ipython-input-5-bb5d91f38e13>\u001b[0m in \u001b[0;36m<module>\u001b[0;34m\u001b[0m\n\u001b[0;32m----> 1\u001b[0;31m \u001b[0mx\u001b[0m \u001b[0;34m=\u001b[0m \u001b[0mboston_dataframe\u001b[0m\u001b[0;34m.\u001b[0m\u001b[0mloc\u001b[0m\u001b[0;34m[\u001b[0m\u001b[0;34m:\u001b[0m\u001b[0;34m,\u001b[0m\u001b[0;34m'RM'\u001b[0m\u001b[0;34m]\u001b[0m\u001b[0;34m.\u001b[0m\u001b[0mvalues\u001b[0m\u001b[0;34m.\u001b[0m\u001b[0mreshape\u001b[0m\u001b[0;34m(\u001b[0m\u001b[0;34m-\u001b[0m\u001b[0;36m1\u001b[0m\u001b[0;34m,\u001b[0m\u001b[0;36m1\u001b[0m\u001b[0;34m)\u001b[0m\u001b[0;34m\u001b[0m\u001b[0;34m\u001b[0m\u001b[0m\n\u001b[0m\u001b[1;32m      2\u001b[0m \u001b[0mprediction\u001b[0m \u001b[0;34m=\u001b[0m \u001b[0mboston_predict\u001b[0m\u001b[0;34m(\u001b[0m\u001b[0mestimator\u001b[0m\u001b[0;34m,\u001b[0m \u001b[0mx\u001b[0m\u001b[0;34m)\u001b[0m\u001b[0;34m\u001b[0m\u001b[0;34m\u001b[0m\u001b[0m\n\u001b[1;32m      3\u001b[0m \u001b[0;31m#print(prediction)\u001b[0m\u001b[0;34m\u001b[0m\u001b[0;34m\u001b[0m\u001b[0;34m\u001b[0m\u001b[0m\n\u001b[1;32m      4\u001b[0m \u001b[0mbase_test\u001b[0m \u001b[0;34m=\u001b[0m \u001b[0mboston_dataframe\u001b[0m\u001b[0;34m.\u001b[0m\u001b[0mloc\u001b[0m\u001b[0;34m[\u001b[0m\u001b[0;34m:\u001b[0m\u001b[0;34m,\u001b[0m\u001b[0;34m'MDEV'\u001b[0m\u001b[0;34m]\u001b[0m\u001b[0;34m.\u001b[0m\u001b[0mvalues\u001b[0m\u001b[0;34m\u001b[0m\u001b[0;34m\u001b[0m\u001b[0m\n\u001b[1;32m      5\u001b[0m \u001b[0mprint_model_prediction_evaluator\u001b[0m\u001b[0;34m(\u001b[0m\u001b[0mbase_test\u001b[0m\u001b[0;34m,\u001b[0m \u001b[0mprediction\u001b[0m\u001b[0;34m)\u001b[0m\u001b[0;34m\u001b[0m\u001b[0;34m\u001b[0m\u001b[0m\n",
      "\u001b[0;31mNameError\u001b[0m: name 'boston_dataframe' is not defined"
     ]
    }
   ],
   "source": [
    "x = boston_dataframe.loc[:,'RM'].values.reshape(-1,1)\n",
    "prediction = boston_predict(estimator, x)\n",
    "#print(prediction)\n",
    "base_test = boston_dataframe.loc[:,'MDEV'].values\n",
    "print_model_prediction_evaluator(base_test, prediction)"
   ]
  },
  {
   "cell_type": "code",
   "execution_count": null,
   "id": "1e211c17",
   "metadata": {},
   "outputs": [],
   "source": []
  }
 ],
 "metadata": {
  "kernelspec": {
   "display_name": "Python 3",
   "language": "python",
   "name": "python3"
  },
  "language_info": {
   "codemirror_mode": {
    "name": "ipython",
    "version": 3
   },
   "file_extension": ".py",
   "mimetype": "text/x-python",
   "name": "python",
   "nbconvert_exporter": "python",
   "pygments_lexer": "ipython3",
   "version": "3.6.7"
  }
 },
 "nbformat": 4,
 "nbformat_minor": 5
}
